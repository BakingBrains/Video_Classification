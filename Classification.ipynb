{
 "cells": [
  {
   "cell_type": "code",
   "execution_count": 1,
   "metadata": {},
   "outputs": [],
   "source": [
    "from keras.models import load_model\n",
    "from collections import deque\n",
    "import numpy as np\n",
    "import pickle\n",
    "import cv2"
   ]
  },
  {
   "cell_type": "code",
   "execution_count": 2,
   "metadata": {},
   "outputs": [],
   "source": [
    "model = load_model('outputmodel.h5')\n",
    "lb = pickle.loads(open(r'v_c_binarizer.pickle','rb').read())\n",
    "outputVideo = r'demo_oupt.avi'\n",
    "mean = np.array([123.68, 116.779, 103.939][::1], dtype='float32')\n",
    "Queue = deque(maxlen=128)"
   ]
  },
  {
   "cell_type": "code",
   "execution_count": 3,
   "metadata": {},
   "outputs": [
    {
     "name": "stdout",
     "output_type": "stream",
     "text": [
      "Finalizing.....\n"
     ]
    }
   ],
   "source": [
    "capturevideo = cv2.VideoCapture('demo.mp4')\n",
    "writer = None\n",
    "(width, height) = (None, None)\n",
    "\n",
    "while True:\n",
    "    (taken, frame) = capturevideo.read()\n",
    "    \n",
    "    if not taken:\n",
    "        break\n",
    "    if width is None or height is None:\n",
    "        (width, height) = frame.shape[:2]\n",
    "        \n",
    "    output = frame.copy()\n",
    "    frame = cv2.cvtColor(frame,cv2.COLOR_BGR2RGB)\n",
    "    frame = cv2.resize(frame,(224,224)).astype('float32')\n",
    "    frame -= mean\n",
    "    preds = model.predict(np.expand_dims(frame,axis=0))[0]\n",
    "    Queue.append(preds)\n",
    "    results = np.array(Queue).mean(axis=0)\n",
    "    i = np.argmax(results)\n",
    "    label = lb.classes_[i]\n",
    "    text = \"p: {}\".format(label)\n",
    "    cv2.putText(output,text,(45,60),cv2.FONT_HERSHEY_SIMPLEX, 1.25,(255,0,0), 5)\n",
    "    \n",
    "    if writer is None:\n",
    "        fourcc = cv2.VideoWriter_fourcc(*\"MJPG\")\n",
    "        writer = cv2.VideoWriter('outputVideo', fourcc,10,(width, height), True)\n",
    "    writer.write(output)\n",
    "    cv2.imshow('In progress',output)\n",
    "    key = cv2.waitKey(1) & 0xFF\n",
    "    \n",
    "    if key == ord('q'):\n",
    "        break\n",
    "\n",
    "print('Finalizing.....')\n",
    "writer.release()\n",
    "capturevideo.release()"
   ]
  },
  {
   "cell_type": "code",
   "execution_count": null,
   "metadata": {},
   "outputs": [],
   "source": []
  }
 ],
 "metadata": {
  "kernelspec": {
   "display_name": "Python 3",
   "language": "python",
   "name": "python3"
  },
  "language_info": {
   "codemirror_mode": {
    "name": "ipython",
    "version": 3
   },
   "file_extension": ".py",
   "mimetype": "text/x-python",
   "name": "python",
   "nbconvert_exporter": "python",
   "pygments_lexer": "ipython3",
   "version": "3.6.8"
  }
 },
 "nbformat": 4,
 "nbformat_minor": 4
}
